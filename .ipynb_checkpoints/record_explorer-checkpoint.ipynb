{
 "cells": [
  {
   "cell_type": "code",
   "execution_count": 4,
   "metadata": {
    "collapsed": false
   },
   "outputs": [
    {
     "name": "stdout",
     "output_type": "stream",
     "text": [
      "0\n",
      "Number of videos in this tfrecord:  167\n",
      "First video feature length 1024\n",
      "First 20 features of the first youtube video ( 100008607 )\n",
      "[0.1023484468460083, 1.036779761314392, -0.6302528381347656, -0.12379534542560577, -0.235011026263237, 1.0528843402862549, -0.364056795835495, -0.6324489116668701, 0.5750804543495178, -0.6353247761726379, 0.6519954800605774, 0.05251838266849518, -0.15689338743686676, -0.41080188751220703, -0.32039666175842285, 0.15625694394111633, -0.09733782708644867, -1.078723430633545, -0.49508947134017944, -0.033337827771902084]\n",
      "mean_audio has length of: \n",
      "[128, 128, 128, 128, 128]\n",
      "mean_rgb has length of: \n",
      "[1024, 1024, 1024, 1024, 1024]\n"
     ]
    },
    {
     "data": {
      "text/html": [
       "\n",
       "        <iframe\n",
       "            width=\"400\"\n",
       "            height=\"300\"\n",
       "            src=\"https://www.youtube.com/embed/100008607\"\n",
       "            frameborder=\"0\"\n",
       "            allowfullscreen\n",
       "        ></iframe>\n",
       "        "
      ],
      "text/plain": [
       "<IPython.lib.display.YouTubeVideo at 0x11b032a20>"
      ]
     },
     "execution_count": 4,
     "metadata": {},
     "output_type": "execute_result"
    }
   ],
   "source": [
    "# %load record_explorer.py\n",
    "# This Python 3 environment comes with many helpful analytics libraries installed\n",
    "# It is defined by the kaggle/python docker image: https://github.com/kaggle/docker-python\n",
    "# For example, here's several helpful packages to load in \n",
    "\n",
    "import numpy as np # linear algebra\n",
    "import pandas as pd # data processing, CSV file I/O (e.g. pd.read_csv)\n",
    "import tensorflow as tf\n",
    "\n",
    "from IPython.display import YouTubeVideo\n",
    "\n",
    "video_lvl_record = \"/Users/brandon/development/youtube/features/video_level_test/test2S.tfrecord\"\n",
    "frame_lvl_record = \"/Users/brandon/development/youtube/features/frame_level_train/traineA.tfrecord\"\n",
    "# For each example in the record:\n",
    "# \"video_id\": unique id for the video, in train set it is a Youtube video id, and in test/validation they are anonymized\n",
    "# \"labels\": list of labels of that video\n",
    "# \"mean_rgb\": float array of length 1024\n",
    "# \"mean_audio\": float array of length 128\n",
    "\n",
    "video_lvl_train = \"/Users/brandon/development/youtube/features/video_level_train\"\n",
    "frame_lvl_train = \"/Users/brandon/development/youtube/features/frame_level_train\"\n",
    "\n",
    "vid_ids = []\n",
    "labels = []\n",
    "mean_rgb = []\n",
    "mean_audio = []\n",
    "\n",
    "total = 0\n",
    "for example in tf.python_io.tf_record_iterator(video_lvl_record):\n",
    "    tf_example = tf.train.Example.FromString(example)\n",
    "\n",
    "    vid_ids.append(tf_example.features.feature['video_id'].bytes_list.value[0].decode(encoding='UTF-8'))\n",
    "    labels.append(tf_example.features.feature['labels'].int64_list.value)\n",
    "    mean_rgb.append(tf_example.features.feature['mean_rgb'].float_list.value)\n",
    "    mean_audio.append(tf_example.features.feature['mean_audio'].float_list.value)\n",
    "\n",
    "print(total)\n",
    "\n",
    "print('Number of videos in this tfrecord: ',len(mean_rgb)) # length of arbitrary list of mean_rgb, one per video\n",
    "print('First video feature length',len(mean_rgb[0]))\n",
    "print('First 20 features of the first youtube video (',vid_ids[0],')')\n",
    "print(mean_rgb[0][:20])\n",
    "\n",
    "print('mean_audio has length of: ')\n",
    "print([len(x) for x in mean_audio][:5])\n",
    "print('mean_rgb has length of: ')\n",
    "print([len(x) for x in mean_rgb][:5])\n",
    "\n",
    "\n",
    "def play_one_vid(record_name, video_index):\n",
    "    return vid_ids[video_index]\n",
    "    \n",
    "# this worked on my local jupyter notebook, but doesn't show on kaggle kernels:\n",
    "YouTubeVideo(play_one_vid(video_lvl_record, 0))\n",
    "\n",
    "\n",
    "# feat_rgb = []\n",
    "# feat_audio = []\n",
    "\n",
    "# for example in tf.python_io.tf_record_iterator(frame_lvl_record):        \n",
    "#     tf_seq_example = tf.train.SequenceExample.FromString(example)\n",
    "#     n_frames = len(tf_seq_example.feature_lists.feature_list['audio'].feature)\n",
    "#     sess = tf.InteractiveSession()\n",
    "#     rgb_frame = []\n",
    "#     audio_frame = []\n",
    "#     # iterate through frames\n",
    "#     for i in range(n_frames):\n",
    "#         rgb_frame.append(tf.cast(tf.decode_raw(\n",
    "#                 tf_seq_example.feature_lists.feature_list['rgb'].feature[i].bytes_list.value[0],tf.uint8)\n",
    "#                        ,tf.float32).eval())\n",
    "#         audio_frame.append(tf.cast(tf.decode_raw(\n",
    "#                 tf_seq_example.feature_lists.feature_list['audio'].feature[i].bytes_list.value[0],tf.uint8)\n",
    "#                        ,tf.float32).eval())\n",
    "        \n",
    "        \n",
    "#     sess.close()\n",
    "#     feat_rgb.append(rgb_frame)\n",
    "#     feat_audio.append(audio_frame)\n",
    "#     break\n",
    "\n",
    "# print('The first video has %d frames' %len(feat_rgb[0]))\n",
    "\n"
   ]
  },
  {
   "cell_type": "code",
   "execution_count": null,
   "metadata": {
    "collapsed": true
   },
   "outputs": [],
   "source": []
  }
 ],
 "metadata": {
  "kernelspec": {
   "display_name": "Python 3",
   "language": "python",
   "name": "python3"
  },
  "language_info": {
   "codemirror_mode": {
    "name": "ipython",
    "version": 3
   },
   "file_extension": ".py",
   "mimetype": "text/x-python",
   "name": "python",
   "nbconvert_exporter": "python",
   "pygments_lexer": "ipython3",
   "version": "3.6.0"
  }
 },
 "nbformat": 4,
 "nbformat_minor": 2
}
